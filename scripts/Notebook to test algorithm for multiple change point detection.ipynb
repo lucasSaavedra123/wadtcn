{
 "cells": [
  {
   "cell_type": "code",
   "execution_count": 1,
   "id": "8efcc55f-220d-4ec2-af87-ffab546c7f29",
   "metadata": {},
   "outputs": [],
   "source": [
    "%load_ext autoreload\n",
    "%autoreload 2\n",
    "from collections import defaultdict\n",
    "\n",
    "import pandas as pd\n",
    "import numpy as np\n",
    "np.random.seed(0)\n",
    "import random\n",
    "random.seed(0)\n",
    "import seaborn as sns\n",
    "import matplotlib.pyplot as plt\n",
    "from scipy import stats\n",
    "import tqdm\n",
    "from sklearn.metrics import f1_score\n",
    "from scipy.signal import find_peaks\n",
    "from andi_datasets.utils_challenge import single_changepoint_error, label_continuous_to_list, segment_property_errors, segment_property_errors\n",
    "\n",
    "from Trajectory import Trajectory\n",
    "from DataSimulation import AndiDataSimulation, Andi2ndDataSimulation\n",
    "from PredictiveModel.WavenetTCNSingleLevelAlphaPredicter import WavenetTCNSingleLevelAlphaPredicter\n",
    "from PredictiveModel.WavenetTCNMultiTaskClassifierSingleLevelPredicter import WavenetTCNMultiTaskClassifierSingleLevelPredicter\n",
    "from PredictiveModel.WavenetTCNMultiTaskClassifierSingleLevelPredicter import WavenetTCNMultiTaskClassifierSingleLevelPredicter\n",
    "from PredictiveModel.WavenetTCNSingleLevelChangePointPredicter import WavenetTCNSingleLevelChangePointPredicter\n",
    "from PredictiveModel.WavenetTCNSingleLevelDiffusionCoefficientPredicter import WavenetTCNSingleLevelDiffusionCoefficientPredicter\n",
    "from utils import refine_values_and_states_following_breakpoints"
   ]
  },
  {
   "cell_type": "code",
   "execution_count": 2,
   "id": "e300e942-fd55-4af1-ba1c-66a6072feaa9",
   "metadata": {},
   "outputs": [],
   "source": [
    "#Add noise\n",
    "def add_noise_to_trajectory(trajectory):\n",
    "    sigma = np.random.uniform(0,2)\n",
    "\n",
    "    labels = np.zeros((trajectory.length, 3))\n",
    "    labels[:,0] = list(trajectory.info['alpha_t'])\n",
    "    labels[:,1] = list(trajectory.info['d_t'])\n",
    "    labels[:,2] = list(trajectory.info['state_t'])\n",
    "    segments_info = label_continuous_to_list(labels)\n",
    "    return Trajectory(\n",
    "        x=trajectory.get_x(),\n",
    "        y=trajectory.get_y(),\n",
    "        noise_x=np.random.randn(trajectory.length) * sigma,\n",
    "        noise_y=np.random.randn(trajectory.length) * sigma,\n",
    "        info={\n",
    "            'sigma': sigma,\n",
    "            'd_t':list(trajectory.info['d_t']),\n",
    "            'alpha_t':list(trajectory.info['alpha_t']),\n",
    "            'state_t':list(trajectory.info['state_t']),\n",
    "            'cps': segments_info[0],\n",
    "            'segments_info': segments_info\n",
    "        }\n",
    "    )"
   ]
  },
  {
   "cell_type": "code",
   "execution_count": 3,
   "id": "f52cab4c-9a57-4163-8b6c-a4b42db631fc",
   "metadata": {},
   "outputs": [
    {
     "name": "stderr",
     "output_type": "stream",
     "text": [
      "WARNING:tensorflow:AutoGraph could not transform <bound method WaveNetEncoder.call of <PredictiveModel.model_utils.WaveNetEncoder object at 0x000001BBFFBCB730>> and will run it as-is.\n",
      "Please report this to the TensorFlow team. When filing the bug, set the verbosity to 10 (on Linux, `export AUTOGRAPH_VERBOSITY=10`) and attach the full output.\n",
      "Cause: deeptrack attempted to use a functionality that requires module deeptrack.pytorch, but it couldn't be loaded. Please install deeptrack and retry.\n",
      "To silence this warning, decorate the function with @tf.autograph.experimental.do_not_convert\n"
     ]
    },
    {
     "name": "stdout",
     "output_type": "stream",
     "text": [
      "WARNING: AutoGraph could not transform <bound method WaveNetEncoder.call of <PredictiveModel.model_utils.WaveNetEncoder object at 0x000001BBFFBCB730>> and will run it as-is.\n",
      "Please report this to the TensorFlow team. When filing the bug, set the verbosity to 10 (on Linux, `export AUTOGRAPH_VERBOSITY=10`) and attach the full output.\n",
      "Cause: deeptrack attempted to use a functionality that requires module deeptrack.pytorch, but it couldn't be loaded. Please install deeptrack and retry.\n",
      "To silence this warning, decorate the function with @tf.autograph.experimental.do_not_convert\n"
     ]
    },
    {
     "name": "stderr",
     "output_type": "stream",
     "text": [
      "WARNING:tensorflow:AutoGraph could not transform <bound method Transformer.call of <PredictiveModel.model_utils.Transformer object at 0x000001BB83433BB0>> and will run it as-is.\n",
      "Please report this to the TensorFlow team. When filing the bug, set the verbosity to 10 (on Linux, `export AUTOGRAPH_VERBOSITY=10`) and attach the full output.\n",
      "Cause: deeptrack attempted to use a functionality that requires module deeptrack.deeplay, but it couldn't be loaded. Please install deeptrack and retry.\n",
      "To silence this warning, decorate the function with @tf.autograph.experimental.do_not_convert\n"
     ]
    },
    {
     "name": "stdout",
     "output_type": "stream",
     "text": [
      "WARNING: AutoGraph could not transform <bound method Transformer.call of <PredictiveModel.model_utils.Transformer object at 0x000001BB83433BB0>> and will run it as-is.\n",
      "Please report this to the TensorFlow team. When filing the bug, set the verbosity to 10 (on Linux, `export AUTOGRAPH_VERBOSITY=10`) and attach the full output.\n",
      "Cause: deeptrack attempted to use a functionality that requires module deeptrack.deeplay, but it couldn't be loaded. Please install deeptrack and retry.\n",
      "To silence this warning, decorate the function with @tf.autograph.experimental.do_not_convert\n"
     ]
    },
    {
     "name": "stderr",
     "output_type": "stream",
     "text": [
      "WARNING:tensorflow:AutoGraph could not transform <bound method EncoderLayer.call of <PredictiveModel.model_utils.EncoderLayer object at 0x000001BB8353AD70>> and will run it as-is.\n",
      "Please report this to the TensorFlow team. When filing the bug, set the verbosity to 10 (on Linux, `export AUTOGRAPH_VERBOSITY=10`) and attach the full output.\n",
      "Cause: deeptrack attempted to use a functionality that requires module deeptrack.pytorch, but it couldn't be loaded. Please install deeptrack and retry.\n",
      "To silence this warning, decorate the function with @tf.autograph.experimental.do_not_convert\n"
     ]
    },
    {
     "name": "stdout",
     "output_type": "stream",
     "text": [
      "WARNING: AutoGraph could not transform <bound method EncoderLayer.call of <PredictiveModel.model_utils.EncoderLayer object at 0x000001BB8353AD70>> and will run it as-is.\n",
      "Please report this to the TensorFlow team. When filing the bug, set the verbosity to 10 (on Linux, `export AUTOGRAPH_VERBOSITY=10`) and attach the full output.\n",
      "Cause: deeptrack attempted to use a functionality that requires module deeptrack.pytorch, but it couldn't be loaded. Please install deeptrack and retry.\n",
      "To silence this warning, decorate the function with @tf.autograph.experimental.do_not_convert\n"
     ]
    },
    {
     "name": "stderr",
     "output_type": "stream",
     "text": [
      "WARNING:tensorflow:AutoGraph could not transform <bound method GlobalSelfAttention.call of <PredictiveModel.model_utils.GlobalSelfAttention object at 0x000001BB835391B0>> and will run it as-is.\n",
      "Please report this to the TensorFlow team. When filing the bug, set the verbosity to 10 (on Linux, `export AUTOGRAPH_VERBOSITY=10`) and attach the full output.\n",
      "Cause: deeptrack attempted to use a functionality that requires module deeptrack.deeplay, but it couldn't be loaded. Please install deeptrack and retry.\n",
      "To silence this warning, decorate the function with @tf.autograph.experimental.do_not_convert\n"
     ]
    },
    {
     "name": "stdout",
     "output_type": "stream",
     "text": [
      "WARNING: AutoGraph could not transform <bound method GlobalSelfAttention.call of <PredictiveModel.model_utils.GlobalSelfAttention object at 0x000001BB835391B0>> and will run it as-is.\n",
      "Please report this to the TensorFlow team. When filing the bug, set the verbosity to 10 (on Linux, `export AUTOGRAPH_VERBOSITY=10`) and attach the full output.\n",
      "Cause: deeptrack attempted to use a functionality that requires module deeptrack.deeplay, but it couldn't be loaded. Please install deeptrack and retry.\n",
      "To silence this warning, decorate the function with @tf.autograph.experimental.do_not_convert\n"
     ]
    },
    {
     "name": "stderr",
     "output_type": "stream",
     "text": [
      "WARNING:tensorflow:AutoGraph could not transform <bound method FeedForward.call of <PredictiveModel.model_utils.FeedForward object at 0x000001BB83478A30>> and will run it as-is.\n",
      "Please report this to the TensorFlow team. When filing the bug, set the verbosity to 10 (on Linux, `export AUTOGRAPH_VERBOSITY=10`) and attach the full output.\n",
      "Cause: deeptrack attempted to use a functionality that requires module deeptrack.pytorch, but it couldn't be loaded. Please install deeptrack and retry.\n",
      "To silence this warning, decorate the function with @tf.autograph.experimental.do_not_convert\n"
     ]
    },
    {
     "name": "stdout",
     "output_type": "stream",
     "text": [
      "WARNING: AutoGraph could not transform <bound method FeedForward.call of <PredictiveModel.model_utils.FeedForward object at 0x000001BB83478A30>> and will run it as-is.\n",
      "Please report this to the TensorFlow team. When filing the bug, set the verbosity to 10 (on Linux, `export AUTOGRAPH_VERBOSITY=10`) and attach the full output.\n",
      "Cause: deeptrack attempted to use a functionality that requires module deeptrack.pytorch, but it couldn't be loaded. Please install deeptrack and retry.\n",
      "To silence this warning, decorate the function with @tf.autograph.experimental.do_not_convert\n"
     ]
    }
   ],
   "source": [
    "cp_network = WavenetTCNSingleLevelChangePointPredicter(200,None,simulator=Andi2ndDataSimulation)\n",
    "alpha_network = WavenetTCNSingleLevelAlphaPredicter(200,None,simulator=Andi2ndDataSimulation)\n",
    "d_network = WavenetTCNSingleLevelDiffusionCoefficientPredicter(200,None,simulator=Andi2ndDataSimulation)\n",
    "classifier_network = WavenetTCNMultiTaskClassifierSingleLevelPredicter(200,None,simulator=Andi2ndDataSimulation)\n",
    "\n",
    "cp_network.load_as_file()\n",
    "alpha_network.load_as_file()\n",
    "d_network.load_as_file()\n",
    "classifier_network.load_as_file()"
   ]
  },
  {
   "cell_type": "code",
   "execution_count": 4,
   "id": "e3e8ced4-e0c2-4992-a7bf-05359c6625e0",
   "metadata": {},
   "outputs": [
    {
     "name": "stdout",
     "output_type": "stream",
     "text": [
      "h                0.900000\n",
      "p                0.200000\n",
      "rmse     mean    0.592495\n",
      "         std     1.093534\n",
      "jaccard  mean    0.672278\n",
      "         std     0.333900\n",
      "Name: 92, dtype: float64\n",
      "Height: 0.9 Prominence: 0.2\n"
     ]
    }
   ],
   "source": [
    "recover_info = True\n",
    "\n",
    "if not recover_info:\n",
    "\n",
    "    trajectories = []\n",
    "    \n",
    "    for train_i in tqdm.tqdm(range(0,3)):\n",
    "        trajectories += Andi2ndDataSimulation().simulate_phenomenological_trajectories_for_classification_training(100_000, 200, None, True, f'train_{train_i}', enable_parallelism=True, read_limit=25_000)\n",
    "    \n",
    "    trajectories = [add_noise_to_trajectory(t) for t in tqdm.tqdm(trajectories)]\n",
    "    \n",
    "    h_p_metrics = {\n",
    "        'h': [],\n",
    "        'p': [],\n",
    "        'rmse' : [],\n",
    "        'sigma': [],\n",
    "        'jaccard':[],\n",
    "    }\n",
    "\n",
    "    cp_results = cp_network.predict(trajectories, apply_threshold=False)\n",
    "\n",
    "    for height in tqdm.tqdm(np.arange(0,1,0.1)):\n",
    "        for prominence in np.arange(0,1,0.1):\n",
    "            tp_rmses, jaccards = [], []\n",
    "            for t_i in range(len(trajectories)):\n",
    "                trajectory = trajectories[t_i]\n",
    "                preds_cps = find_peaks(cp_results[t_i,:,0], height=height, prominence=prominence)[0].tolist() + [trajectory.length]\n",
    "                tp_rmse, jaccard = single_changepoint_error(trajectory.info['cps'], preds_cps, threshold=10)\n",
    "                h_p_metrics['h'].append(height)\n",
    "                h_p_metrics['p'].append(prominence)\n",
    "                h_p_metrics['sigma'].append(trajectory.info['sigma'])\n",
    "                h_p_metrics['rmse'].append(tp_rmse)\n",
    "                h_p_metrics['jaccard'].append(jaccard)\n",
    "    \n",
    "    h_p_metrics = pd.DataFrame(h_p_metrics)\n",
    "    h_p_metrics.to_csv('h_p_metrics.csv')\n",
    "else:\n",
    "    h_p_metrics = pd.read_csv('h_p_metrics.csv')\n",
    "\n",
    "group_metrics = h_p_metrics.groupby(['h','p'], as_index=False).agg({metric_label:['mean','std'] for metric_label in ['rmse', 'jaccard']})\n",
    "sorted_metrics = group_metrics.sort_values([('jaccard', 'mean')], ascending=False)\n",
    "best_parameters = sorted_metrics.iloc[0]\n",
    "print(best_parameters)\n",
    "selected_h, selected_p = best_parameters.h.iloc[0], best_parameters.p.iloc[0]\n",
    "print(\"Height:\", selected_h, \"Prominence:\", selected_p)"
   ]
  },
  {
   "cell_type": "code",
   "execution_count": 5,
   "id": "68d4e4f1-454a-4675-b7a1-4e54f8a4bf12",
   "metadata": {},
   "outputs": [
    {
     "name": "stderr",
     "output_type": "stream",
     "text": [
      "100%|███████████████████████████████████████████████████████████████████████████| 12500/12500 [01:19<00:00, 156.99it/s]\n"
     ]
    }
   ],
   "source": [
    "val_trajectories = Andi2ndDataSimulation().simulate_phenomenological_trajectories_for_classification_training(12_500, 200, None, True, 'out_of_train_val', enable_parallelism=False)\n",
    "val_trajectories = [add_noise_to_trajectory(t) for t in tqdm.tqdm(val_trajectories)]"
   ]
  },
  {
   "cell_type": "code",
   "execution_count": 6,
   "id": "f3e813c1-99bc-4d91-9586-12dbc3d4fc54",
   "metadata": {},
   "outputs": [
    {
     "name": "stderr",
     "output_type": "stream",
     "text": [
      "WARNING:tensorflow:AutoGraph could not transform <function Model.make_predict_function.<locals>.predict_function at 0x000001BB88054700> and will run it as-is.\n",
      "Please report this to the TensorFlow team. When filing the bug, set the verbosity to 10 (on Linux, `export AUTOGRAPH_VERBOSITY=10`) and attach the full output.\n",
      "Cause: deeptrack attempted to use a functionality that requires module deeptrack.deeplay, but it couldn't be loaded. Please install deeptrack and retry.\n",
      "To silence this warning, decorate the function with @tf.autograph.experimental.do_not_convert\n"
     ]
    },
    {
     "name": "stdout",
     "output_type": "stream",
     "text": [
      "WARNING: AutoGraph could not transform <function Model.make_predict_function.<locals>.predict_function at 0x000001BB88054700> and will run it as-is.\n",
      "Please report this to the TensorFlow team. When filing the bug, set the verbosity to 10 (on Linux, `export AUTOGRAPH_VERBOSITY=10`) and attach the full output.\n",
      "Cause: deeptrack attempted to use a functionality that requires module deeptrack.deeplay, but it couldn't be loaded. Please install deeptrack and retry.\n",
      "To silence this warning, decorate the function with @tf.autograph.experimental.do_not_convert\n",
      "391/391 [==============================] - 180s 448ms/step\n"
     ]
    },
    {
     "name": "stderr",
     "output_type": "stream",
     "text": [
      "WARNING:tensorflow:AutoGraph could not transform <function Model.make_predict_function.<locals>.predict_function at 0x000001BB88056560> and will run it as-is.\n",
      "Please report this to the TensorFlow team. When filing the bug, set the verbosity to 10 (on Linux, `export AUTOGRAPH_VERBOSITY=10`) and attach the full output.\n",
      "Cause: deeptrack attempted to use a functionality that requires module deeptrack.pytorch, but it couldn't be loaded. Please install deeptrack and retry.\n",
      "To silence this warning, decorate the function with @tf.autograph.experimental.do_not_convert\n"
     ]
    },
    {
     "name": "stdout",
     "output_type": "stream",
     "text": [
      "WARNING: AutoGraph could not transform <function Model.make_predict_function.<locals>.predict_function at 0x000001BB88056560> and will run it as-is.\n",
      "Please report this to the TensorFlow team. When filing the bug, set the verbosity to 10 (on Linux, `export AUTOGRAPH_VERBOSITY=10`) and attach the full output.\n",
      "Cause: deeptrack attempted to use a functionality that requires module deeptrack.pytorch, but it couldn't be loaded. Please install deeptrack and retry.\n",
      "To silence this warning, decorate the function with @tf.autograph.experimental.do_not_convert\n"
     ]
    },
    {
     "name": "stderr",
     "output_type": "stream",
     "text": [
      "WARNING:tensorflow:AutoGraph could not transform <function Model.make_predict_function.<locals>.predict_function at 0x000001BB85A911B0> and will run it as-is.\n",
      "Please report this to the TensorFlow team. When filing the bug, set the verbosity to 10 (on Linux, `export AUTOGRAPH_VERBOSITY=10`) and attach the full output.\n",
      "Cause: deeptrack attempted to use a functionality that requires module deeptrack.deeplay, but it couldn't be loaded. Please install deeptrack and retry.\n",
      "To silence this warning, decorate the function with @tf.autograph.experimental.do_not_convert\n"
     ]
    },
    {
     "name": "stdout",
     "output_type": "stream",
     "text": [
      "WARNING: AutoGraph could not transform <function Model.make_predict_function.<locals>.predict_function at 0x000001BB85A911B0> and will run it as-is.\n",
      "Please report this to the TensorFlow team. When filing the bug, set the verbosity to 10 (on Linux, `export AUTOGRAPH_VERBOSITY=10`) and attach the full output.\n",
      "Cause: deeptrack attempted to use a functionality that requires module deeptrack.deeplay, but it couldn't be loaded. Please install deeptrack and retry.\n",
      "To silence this warning, decorate the function with @tf.autograph.experimental.do_not_convert\n"
     ]
    },
    {
     "name": "stderr",
     "output_type": "stream",
     "text": [
      "WARNING:tensorflow:AutoGraph could not transform <function Model.make_predict_function.<locals>.predict_function at 0x000001BB82303B50> and will run it as-is.\n",
      "Please report this to the TensorFlow team. When filing the bug, set the verbosity to 10 (on Linux, `export AUTOGRAPH_VERBOSITY=10`) and attach the full output.\n",
      "Cause: deeptrack attempted to use a functionality that requires module deeptrack.pytorch, but it couldn't be loaded. Please install deeptrack and retry.\n",
      "To silence this warning, decorate the function with @tf.autograph.experimental.do_not_convert\n"
     ]
    },
    {
     "name": "stdout",
     "output_type": "stream",
     "text": [
      "WARNING: AutoGraph could not transform <function Model.make_predict_function.<locals>.predict_function at 0x000001BB82303B50> and will run it as-is.\n",
      "Please report this to the TensorFlow team. When filing the bug, set the verbosity to 10 (on Linux, `export AUTOGRAPH_VERBOSITY=10`) and attach the full output.\n",
      "Cause: deeptrack attempted to use a functionality that requires module deeptrack.pytorch, but it couldn't be loaded. Please install deeptrack and retry.\n",
      "To silence this warning, decorate the function with @tf.autograph.experimental.do_not_convert\n"
     ]
    }
   ],
   "source": [
    "cp_results = cp_network.predict(val_trajectories, apply_threshold=False)\n",
    "alpha_results = alpha_network.predict(val_trajectories)\n",
    "d_results = d_network.predict(val_trajectories)\n",
    "classifier_results = classifier_network.predict(val_trajectories)\n",
    "classifier_results = np.argmax(classifier_results, axis=2)"
   ]
  },
  {
   "cell_type": "code",
   "execution_count": 21,
   "id": "1f0e671f-5e0d-402b-a148-09f1944d3d93",
   "metadata": {},
   "outputs": [
    {
     "name": "stderr",
     "output_type": "stream",
     "text": [
      "100%|███████████████████████████████████████████████████████████████████████████| 12500/12500 [01:14<00:00, 168.45it/s]\n"
     ]
    }
   ],
   "source": [
    "trajectory_metrics = {\n",
    "    'rmse' : [],\n",
    "    'jaccard':[],\n",
    "    'alpha_error':[],\n",
    "    'd_error':[],\n",
    "    'sigma': [],\n",
    "    'state_error':[],\n",
    "}\n",
    "\n",
    "segment_metrics = {\n",
    "    'real_d' : [],\n",
    "    'predicted_d':[],\n",
    "    'real_alpha':[],\n",
    "    'predicted_alpha':[],\n",
    "    'real_state':[],\n",
    "    'predicted_state':[],\n",
    "    'paired_segment_length':[],\n",
    "    'sigma': [],\n",
    "}\n",
    "\n",
    "for t_i in tqdm.tqdm(range(len(val_trajectories))): \n",
    "    trajectory = val_trajectories[t_i]\n",
    "\n",
    "    preds_cps = find_peaks(cp_results[t_i,:,0], height=selected_h, prominence=selected_p)[0].tolist() + [trajectory.length]\n",
    "\n",
    "    preds_alpha, preds_d, preds_state = refine_values_and_states_following_breakpoints(\n",
    "        alpha_results[t_i,:,0]*2,\n",
    "        10**d_results[t_i,:,0],\n",
    "        classifier_results[t_i],\n",
    "        preds_cps\n",
    "    )\n",
    "    \n",
    "    labels = np.zeros((trajectory.length, 3))\n",
    "    labels[:,0] = preds_alpha\n",
    "    labels[:,1] = preds_d\n",
    "    labels[:,2] = preds_state\n",
    "    preds_segments_info = label_continuous_to_list(labels)\n",
    "    \n",
    "    gt_segments_info = trajectory.info['segments_info'] #-> Cps, alpha, D, state\n",
    "\n",
    "    errors = segment_property_errors(\n",
    "        gt_segments_info[0], gt_segments_info[1], gt_segments_info[2], gt_segments_info[3],#GT_cp, GT_alpha, GT_D, GT_s,\n",
    "        preds_segments_info[0], preds_segments_info[1], preds_segments_info[2], preds_segments_info[3],#preds_cp, preds_alpha, preds_D, preds_s,\n",
    "        return_pairs=False\n",
    "    )\n",
    "\n",
    "    alpha_pair, d_pair, state_pair = segment_property_errors(\n",
    "        gt_segments_info[0], gt_segments_info[1], gt_segments_info[2], gt_segments_info[3],#GT_cp, GT_alpha, GT_D, GT_s,\n",
    "        preds_segments_info[0], preds_segments_info[1], preds_segments_info[2], preds_segments_info[3],#preds_cp, preds_alpha, preds_D, preds_s,\n",
    "        return_pairs=True\n",
    "    )\n",
    "    number_of_pairs = alpha_pair.shape[0]\n",
    "\n",
    "    tp_rmse, jaccard = single_changepoint_error(trajectory.info['cps'], preds_cps, threshold=10)\n",
    "    trajectory_metrics['rmse'].append(tp_rmse)\n",
    "    trajectory_metrics['sigma'].append(trajectory.info['sigma'])\n",
    "    trajectory_metrics['jaccard'].append(jaccard)\n",
    "    trajectory_metrics['alpha_error'].append(errors[0])\n",
    "    trajectory_metrics['d_error'].append(errors[1])\n",
    "    trajectory_metrics['state_error'].append(errors[2])\n",
    "\n",
    "    preds_cps = [0] + preds_cps\n",
    "\n",
    "    for pair_number in range(number_of_pairs):\n",
    "        segment_metrics['real_d'].append(d_pair[pair_number, 0])\n",
    "        segment_metrics['predicted_d'].append(d_pair[pair_number, 1])\n",
    "        segment_metrics['real_alpha'].append(alpha_pair[pair_number, 0])\n",
    "        segment_metrics['predicted_alpha'].append(alpha_pair[pair_number, 1])\n",
    "        segment_metrics['real_state'].append(state_pair[pair_number, 0])\n",
    "        segment_metrics['predicted_state'].append(state_pair[pair_number, 1])\n",
    "        segment_metrics['paired_segment_length'].append(preds_cps[pair_number+1]-preds_cps[pair_number])\n",
    "        segment_metrics['sigma'].append(trajectory.info['sigma'])\n",
    "\n",
    "trajectory_metrics = pd.DataFrame(trajectory_metrics)\n",
    "trajectory_metrics.to_csv('trajectory_metrics.csv')\n",
    "\n",
    "segment_metrics = pd.DataFrame(segment_metrics)\n",
    "segment_metrics.to_csv('segment_metrics.csv')"
   ]
  },
  {
   "cell_type": "code",
   "execution_count": 24,
   "id": "b2497ddf-fc95-4747-91ad-f5f41d243fb0",
   "metadata": {},
   "outputs": [
    {
     "name": "stderr",
     "output_type": "stream",
     "text": [
      "WARNING:py.warnings:C:\\Users\\Lucas\\AppData\\Local\\Temp\\ipykernel_6620\\310792721.py:6: FutureWarning: The default of observed=False is deprecated and will be changed to True in a future version of pandas. Pass observed=False to retain current behavior or observed=True to adopt the future default and silence this warning.\n",
      "  group = segment_metrics.groupby(pd.cut(segment_metrics['paired_segment_length'],np.arange(0,200+5,5))).median()\n",
      "\n"
     ]
    }
   ],
   "source": [
    "segment_metrics['msle_d'] = (np.log10(segment_metrics['real_d'] + 1) - np.log10(segment_metrics['predicted_d'] + 1))**2\n",
    "segment_metrics['re_d'] = np.abs(segment_metrics['real_d']-segment_metrics['predicted_d'])/segment_metrics['real_d']\n",
    "segment_metrics['mae_alpha'] = np.abs(segment_metrics['real_alpha'] - segment_metrics['predicted_alpha'])\n",
    "#group = segment_metrics.groupby('paired_segment_length').median()\n",
    "\n",
    "group = segment_metrics.groupby(pd.cut(segment_metrics['paired_segment_length'],np.arange(0,200+5,5))).median()\n",
    "\n",
    "classification_by_length = defaultdict(lambda: {'real':[], 'pred':[]})\n",
    "\n",
    "for i, row in segment_metrics.iterrows():\n",
    "    classification_by_length[row.paired_segment_length]['real'].append(row.real_state)\n",
    "    classification_by_length[row.paired_segment_length]['pred'].append(row.predicted_state)\n",
    "\n",
    "for length in classification_by_length:\n",
    "    overall = f1_score(classification_by_length[length]['real'], classification_by_length[length]['pred'], average='micro')\n",
    "\n",
    "    classification_by_length[length] = overall\n",
    "\n",
    "group.to_csv('grouped_metrics.csv')\n",
    "\n",
    "#plt.plot(group.index, [classification_by_length[i] for i in group.index])\n",
    "#plt.ylim([0,1])\n",
    "#plt.show()\n",
    "\n",
    "#plt.plot(group.index, group['msle_d'])\n",
    "#plt.show()\n",
    "#plt.plot(group.index, group['mae_alpha'])\n",
    "#plt.ylim([0,1])\n",
    "#plt.show()"
   ]
  },
  {
   "cell_type": "code",
   "execution_count": 9,
   "id": "600f6df4-89b7-412e-b154-1ba989b74690",
   "metadata": {},
   "outputs": [
    {
     "name": "stdout",
     "output_type": "stream",
     "text": [
      "Index([  1,   2,   3,   4,   5,   6,   7,   8,   9,  10,\n",
      "       ...\n",
      "       191, 192, 193, 194, 195, 196, 197, 198, 199, 200],\n",
      "      dtype='int64', name='paired_segment_length', length=200)\n"
     ]
    }
   ],
   "source": [
    "print(group.index)"
   ]
  },
  {
   "cell_type": "code",
   "execution_count": 36,
   "id": "801171e5-8f88-4cb9-9140-2e0054fa6e89",
   "metadata": {},
   "outputs": [
    {
     "data": {
      "image/png": "[encoded data removed]",
      "text/plain": [
       "<Figure size 640x480 with 2 Axes>"
      ]
     },
     "metadata": {},
     "output_type": "display_data"
    }
   ],
   "source": [
    "from sklearn.metrics import confusion_matrix, ConfusionMatrixDisplay\n",
    "disp = ConfusionMatrixDisplay.from_predictions(segment_metrics['real_state'], segment_metrics['predicted_state'], normalize='true', display_labels=['Im', 'Conf', 'Free', 'Dir'])\n",
    "plt.show()"
   ]
  },
  {
   "cell_type": "code",
   "execution_count": 10,
   "id": "de449e23-2480-4fc0-9d7a-ce8e542cd091",
   "metadata": {},
   "outputs": [],
   "source": [
    "#filtered_segment_metrics = segment_metrics[-3 < np.log10(segment_metrics['real_d'])]\n",
    "#filtered_segment_metrics = filtered_segment_metrics[np.log10(filtered_segment_metrics['real_d']) < 3]\n",
    "#filtered_segment_metrics = filtered_segment_metrics[-3 < np.log10(filtered_segment_metrics['predicted_d'])]\n",
    "#filtered_segment_metrics = filtered_segment_metrics[np.log10(filtered_segment_metrics['predicted_d']) < 3]\n",
    "\n",
    "filtered_segment_metrics = segment_metrics[0 != segment_metrics['real_d']]\n",
    "filtered_segment_metrics = filtered_segment_metrics[0 != filtered_segment_metrics['predicted_d']]"
   ]
  },
  {
   "cell_type": "code",
   "execution_count": 11,
   "id": "909df642-e6a0-4553-966d-b8b9c084dfd9",
   "metadata": {},
   "outputs": [
    {
     "data": {
      "text/plain": [
       "(array([[305.,  93.,  60.,  34.,  22.,  33.,  44.,  33.,  48.,  64., 109.,\n",
       "         236.,  59.,  25.,  18.,  12.,  11.,   6.,  11.,   4.,   6.,   4.,\n",
       "           2.,   2.,   1.],\n",
       "        [195., 172.,  92.,  41.,  49.,  31.,  29.,  38.,  40.,  71.,  92.,\n",
       "         204.,  71.,  26.,  16.,  12.,   6.,  14.,   8.,   1.,   4.,   2.,\n",
       "           1.,   4.,   1.],\n",
       "        [ 56., 157., 198.,  96.,  65.,  43.,  33.,  40.,  34.,  40.,  64.,\n",
       "         204.,  48.,  22.,  20.,  13.,   7.,   6.,  12.,   4.,   5.,   4.,\n",
       "           2.,   0.,   0.],\n",
       "        [ 29.,  68., 197., 187.,  97.,  45.,  33.,  33.,  54.,  50.,  56.,\n",
       "         184.,  45.,  16.,  12.,   9.,   5.,   8.,   4.,  10.,   9.,   0.,\n",
       "           2.,   1.,   0.],\n",
       "        [ 27.,  26.,  81., 207., 198.,  88.,  45.,  32.,  24.,  43.,  79.,\n",
       "         218.,  44.,  27.,  17.,  12.,  10.,   6.,   3.,   4.,   3.,   0.,\n",
       "           2.,   3.,   0.],\n",
       "        [  8.,  12.,  44., 141., 245., 138., 100.,  78.,  39.,  35.,  77.,\n",
       "         211.,  65.,  24.,  22.,  19.,   7.,   7.,   5.,   5.,   5.,   4.,\n",
       "           4.,   1.,   0.],\n",
       "        [ 14.,  12.,  29.,  41., 151., 206., 154.,  87.,  52.,  49.,  86.,\n",
       "         210.,  44.,  24.,  25.,  10.,   9.,   6.,   4.,   5.,   3.,   4.,\n",
       "           2.,   2.,   0.],\n",
       "        [ 14.,  12.,  14.,  27.,  67., 122., 163., 163., 123.,  86.,  95.,\n",
       "         190.,  74.,  22.,  21.,  12.,  17.,  12.,   8.,   5.,   7.,   4.,\n",
       "           0.,   2.,   0.],\n",
       "        [ 11.,  11.,   8.,  15.,  36.,  57., 112., 136., 148., 142., 126.,\n",
       "         240.,  73.,  34.,  33.,  29.,  17.,   5.,   7.,  11.,   8.,   2.,\n",
       "           3.,   2.,   0.],\n",
       "        [ 19.,   7.,   8.,  12.,  23.,  49.,  51., 130., 152., 179., 148.,\n",
       "         218.,  76.,  50.,  50.,  27.,  23.,  16.,   7.,  11.,   5.,   3.,\n",
       "           0.,   2.,   0.],\n",
       "        [ 12.,   6.,   6.,  14.,  25.,  33.,  64.,  86., 115., 151., 223.,\n",
       "         299., 122.,  70.,  35.,  31.,  18.,  12.,  12.,  16.,   4.,   1.,\n",
       "           4.,   1.,   1.],\n",
       "        [ 15.,   1.,   4.,  10.,  16.,  23.,  30.,  32.,  64., 103., 171.,\n",
       "         364., 201., 103.,  52.,  25.,  14.,  13.,   9.,   9.,  10.,   6.,\n",
       "           4.,   1.,   3.],\n",
       "        [  8.,   4.,   5.,   2.,  14.,  15.,  31.,  26.,  46.,  69., 149.,\n",
       "         279., 223., 119., 106.,  64.,  35.,  18.,  13.,   8.,   6.,   7.,\n",
       "           5.,   4.,   2.],\n",
       "        [  8.,   6.,   0.,   6.,  11.,  17.,  14.,  26.,  34.,  49.,  83.,\n",
       "         253., 192., 169., 144.,  93.,  51.,  37.,  16.,  13.,  10.,   5.,\n",
       "           3.,   3.,   1.],\n",
       "        [ 12.,   7.,   4.,   7.,   2.,   8.,  18.,  18.,  22.,  49.,  77.,\n",
       "         244., 127., 135., 196., 156.,  86.,  50.,  30.,  12.,  10.,   6.,\n",
       "           2.,   3.,   0.],\n",
       "        [ 18.,   4.,   4.,   6.,  13.,  14.,  16.,  13.,  23.,  30.,  64.,\n",
       "         188.,  95., 104., 122., 156., 186.,  92.,  40.,  21.,  15.,   6.,\n",
       "           4.,   0.,   0.],\n",
       "        [  6.,   4.,   7.,   6.,  10.,   6.,  11.,  19.,  24.,  41.,  71.,\n",
       "         193.,  81.,  58.,  82., 118., 123., 160.,  89.,  47.,  18.,   7.,\n",
       "          10.,   5.,   0.],\n",
       "        [ 10.,   9.,   6.,   3.,   7.,  16.,  14.,  19.,  34.,  37.,  46.,\n",
       "         201.,  84.,  55.,  81.,  88., 118., 132., 143.,  87.,  43.,  20.,\n",
       "          13.,   5.,   1.],\n",
       "        [  7.,   7.,   6.,   4.,  11.,  17.,  18.,  12.,  26.,  28.,  73.,\n",
       "         172.,  52.,  62.,  66.,  71.,  84., 111., 111., 161.,  90.,  53.,\n",
       "           6.,   4.,   0.],\n",
       "        [ 12.,   7.,  10.,   4.,   7.,  18.,  16.,  11.,  22.,  34.,  62.,\n",
       "         182.,  52.,  52.,  60.,  70.,  83.,  82., 116., 140., 126.,  73.,\n",
       "          21.,   1.,   0.],\n",
       "        [ 13.,   7.,   8.,   8.,  12.,  16.,   9.,  17.,  21.,  30.,  47.,\n",
       "         184.,  68.,  31.,  46.,  34.,  54.,  77.,  91., 147., 137., 111.,\n",
       "          56.,  12.,   0.],\n",
       "        [  8.,   5.,  13.,   7.,   7.,   7.,  13.,  14.,  16.,  32.,  54.,\n",
       "         182.,  52.,  47.,  45.,  43.,  53.,  69.,  68.,  95., 132., 173.,\n",
       "         111.,  29.,   1.],\n",
       "        [ 23.,  14.,   8.,   9.,  12.,   7.,  13.,   9.,  18.,  34.,  39.,\n",
       "         174.,  50.,  27.,  26.,  32.,  38.,  44.,  37.,  73., 110., 165.,\n",
       "         149.,  84.,   0.],\n",
       "        [ 25.,  13.,  17.,  17.,  13.,  15.,  10.,  14.,  12.,  30.,  35.,\n",
       "         145.,  61.,  16.,  24.,  40.,  47.,  38.,  48.,  59.,  75., 115.,\n",
       "         146., 155.,  23.],\n",
       "        [ 39.,  20.,  13.,  11.,  11.,   7.,  11.,  14.,  19.,  21.,  34.,\n",
       "         105.,  52.,  26.,  21.,  24.,  28.,  42.,  40.,  33.,  47.,  64.,\n",
       "         104., 143.,  98.]]),\n",
       " array([2.15177103e-04, 8.01550291e-02, 1.60094881e-01, 2.40034733e-01,\n",
       "        3.19974585e-01, 3.99914437e-01, 4.79854289e-01, 5.59794141e-01,\n",
       "        6.39733993e-01, 7.19673845e-01, 7.99613697e-01, 8.79553549e-01,\n",
       "        9.59493401e-01, 1.03943325e+00, 1.11937310e+00, 1.19931296e+00,\n",
       "        1.27925281e+00, 1.35919266e+00, 1.43913251e+00, 1.51907236e+00,\n",
       "        1.59901222e+00, 1.67895207e+00, 1.75889192e+00, 1.83883177e+00,\n",
       "        1.91877162e+00, 1.99871148e+00]),\n",
       " array([0.01688412, 0.09541749, 0.17395087, 0.25248424, 0.33101761,\n",
       "        0.40955098, 0.48808435, 0.56661772, 0.64515109, 0.72368447,\n",
       "        0.80221784, 0.88075121, 0.95928458, 1.03781795, 1.11635132,\n",
       "        1.1948847 , 1.27341807, 1.35195144, 1.43048481, 1.50901818,\n",
       "        1.58755155, 1.66608492, 1.7446183 , 1.82315167, 1.90168504,\n",
       "        1.98021841]),\n",
       " <matplotlib.collections.QuadMesh at 0x25119f56d70>)"
      ]
     },
     "execution_count": 11,
     "metadata": {},
     "output_type": "execute_result"
    },
    {
     "data": {
      "image/png": "[encoded data removed]",
      "text/plain": [
       "<Figure size 640x480 with 1 Axes>"
      ]
     },
     "metadata": {},
     "output_type": "display_data"
    }
   ],
   "source": [
    "plt.hist2d(filtered_segment_metrics['real_alpha'], filtered_segment_metrics['predicted_alpha'], bins=25)"
   ]
  },
  {
   "cell_type": "code",
   "execution_count": 25,
   "id": "a04fd88c-8ba0-4fd6-baaa-9182f8b29b2a",
   "metadata": {},
   "outputs": [
    {
     "data": {
      "text/plain": [
       "(array([[0.000e+00, 2.000e+00, 0.000e+00, 0.000e+00, 1.000e+00, 0.000e+00,\n",
       "         1.000e+00, 1.000e+00, 1.000e+00, 1.000e+00, 1.000e+00, 0.000e+00,\n",
       "         0.000e+00, 0.000e+00, 0.000e+00, 0.000e+00, 0.000e+00, 0.000e+00,\n",
       "         0.000e+00, 0.000e+00, 0.000e+00, 0.000e+00, 0.000e+00, 0.000e+00,\n",
       "         0.000e+00],\n",
       "        [0.000e+00, 0.000e+00, 3.000e+00, 0.000e+00, 0.000e+00, 0.000e+00,\n",
       "         0.000e+00, 0.000e+00, 0.000e+00, 1.000e+00, 3.000e+00, 3.000e+00,\n",
       "         0.000e+00, 0.000e+00, 0.000e+00, 0.000e+00, 0.000e+00, 0.000e+00,\n",
       "         0.000e+00, 0.000e+00, 0.000e+00, 0.000e+00, 0.000e+00, 0.000e+00,\n",
       "         0.000e+00],\n",
       "        [1.000e+00, 1.400e+01, 1.000e+01, 1.100e+01, 1.000e+00, 0.000e+00,\n",
       "         1.000e+00, 1.000e+00, 1.000e+00, 2.000e+00, 2.000e+00, 0.000e+00,\n",
       "         3.000e+00, 3.000e+00, 0.000e+00, 1.000e+00, 0.000e+00, 1.000e+00,\n",
       "         0.000e+00, 1.000e+00, 1.000e+00, 0.000e+00, 0.000e+00, 0.000e+00,\n",
       "         0.000e+00],\n",
       "        [4.000e+00, 2.600e+01, 5.700e+01, 1.000e+01, 1.000e+01, 2.000e+00,\n",
       "         4.000e+00, 2.000e+00, 8.000e+00, 6.000e+00, 9.000e+00, 6.000e+00,\n",
       "         1.000e+00, 3.000e+00, 2.000e+00, 5.000e+00, 3.000e+00, 6.000e+00,\n",
       "         3.000e+00, 2.000e+00, 1.000e+00, 0.000e+00, 0.000e+00, 0.000e+00,\n",
       "         0.000e+00],\n",
       "        [2.800e+01, 9.100e+01, 2.000e+02, 5.100e+01, 2.100e+01, 1.100e+01,\n",
       "         8.000e+00, 1.900e+01, 1.200e+01, 2.900e+01, 1.400e+01, 2.200e+01,\n",
       "         2.000e+01, 1.400e+01, 1.300e+01, 1.200e+01, 1.100e+01, 8.000e+00,\n",
       "         3.000e+00, 1.000e+00, 2.000e+00, 2.000e+00, 0.000e+00, 0.000e+00,\n",
       "         0.000e+00],\n",
       "        [3.700e+01, 1.260e+02, 2.290e+02, 6.700e+01, 2.600e+01, 3.300e+01,\n",
       "         2.900e+01, 2.200e+01, 3.300e+01, 3.400e+01, 4.600e+01, 4.200e+01,\n",
       "         3.800e+01, 3.000e+01, 3.300e+01, 1.700e+01, 1.200e+01, 7.000e+00,\n",
       "         5.000e+00, 9.000e+00, 1.000e+00, 2.000e+00, 2.000e+00, 0.000e+00,\n",
       "         0.000e+00],\n",
       "        [4.200e+01, 1.340e+02, 2.710e+02, 7.200e+01, 2.600e+01, 2.100e+01,\n",
       "         2.000e+01, 2.300e+01, 3.100e+01, 3.100e+01, 3.500e+01, 3.200e+01,\n",
       "         2.600e+01, 2.900e+01, 1.700e+01, 1.200e+01, 1.300e+01, 6.000e+00,\n",
       "         7.000e+00, 2.000e+00, 2.000e+00, 0.000e+00, 0.000e+00, 0.000e+00,\n",
       "         0.000e+00],\n",
       "        [3.200e+01, 1.280e+02, 2.630e+02, 7.000e+01, 2.600e+01, 1.600e+01,\n",
       "         2.100e+01, 1.900e+01, 1.700e+01, 3.600e+01, 3.200e+01, 2.300e+01,\n",
       "         3.500e+01, 2.200e+01, 1.400e+01, 1.300e+01, 6.000e+00, 8.000e+00,\n",
       "         5.000e+00, 2.000e+00, 0.000e+00, 0.000e+00, 0.000e+00, 0.000e+00,\n",
       "         0.000e+00],\n",
       "        [1.800e+01, 1.090e+02, 2.740e+02, 8.500e+01, 2.600e+01, 3.900e+01,\n",
       "         3.900e+01, 2.500e+01, 3.100e+01, 3.000e+01, 2.900e+01, 3.100e+01,\n",
       "         2.900e+01, 2.700e+01, 1.200e+01, 9.000e+00, 1.200e+01, 1.300e+01,\n",
       "         5.000e+00, 6.000e+00, 3.000e+00, 1.000e+00, 0.000e+00, 0.000e+00,\n",
       "         0.000e+00],\n",
       "        [8.000e+00, 7.800e+01, 2.600e+02, 7.800e+01, 4.400e+01, 5.100e+01,\n",
       "         5.100e+01, 4.800e+01, 3.900e+01, 3.100e+01, 2.900e+01, 3.100e+01,\n",
       "         2.800e+01, 2.300e+01, 1.000e+01, 1.300e+01, 5.000e+00, 7.000e+00,\n",
       "         4.000e+00, 7.000e+00, 4.000e+00, 1.000e+00, 0.000e+00, 0.000e+00,\n",
       "         0.000e+00],\n",
       "        [3.000e+00, 4.200e+01, 1.850e+02, 7.900e+01, 4.200e+01, 4.900e+01,\n",
       "         9.400e+01, 1.210e+02, 6.300e+01, 4.700e+01, 3.900e+01, 2.900e+01,\n",
       "         2.100e+01, 3.200e+01, 1.700e+01, 7.000e+00, 9.000e+00, 4.000e+00,\n",
       "         5.000e+00, 9.000e+00, 3.000e+00, 0.000e+00, 1.000e+00, 0.000e+00,\n",
       "         0.000e+00],\n",
       "        [3.000e+00, 1.500e+01, 1.320e+02, 8.300e+01, 4.100e+01, 3.300e+01,\n",
       "         4.100e+01, 1.170e+02, 1.680e+02, 1.380e+02, 7.800e+01, 3.200e+01,\n",
       "         2.400e+01, 2.400e+01, 1.400e+01, 1.200e+01, 1.000e+01, 5.000e+00,\n",
       "         3.000e+00, 4.000e+00, 4.000e+00, 1.000e+00, 0.000e+00, 0.000e+00,\n",
       "         0.000e+00],\n",
       "        [0.000e+00, 1.100e+01, 7.300e+01, 3.700e+01, 3.900e+01, 2.800e+01,\n",
       "         2.300e+01, 5.600e+01, 1.000e+02, 2.130e+02, 2.170e+02, 9.300e+01,\n",
       "         6.100e+01, 1.900e+01, 1.900e+01, 1.200e+01, 5.000e+00, 1.500e+01,\n",
       "         3.000e+00, 8.000e+00, 2.000e+00, 2.000e+00, 0.000e+00, 0.000e+00,\n",
       "         0.000e+00],\n",
       "        [0.000e+00, 2.000e+00, 2.100e+01, 2.300e+01, 2.200e+01, 9.000e+00,\n",
       "         1.700e+01, 2.600e+01, 3.800e+01, 1.000e+02, 2.300e+02, 3.460e+02,\n",
       "         1.840e+02, 7.000e+01, 3.400e+01, 1.600e+01, 1.100e+01, 8.000e+00,\n",
       "         2.000e+00, 3.000e+00, 1.000e+00, 1.000e+00, 0.000e+00, 0.000e+00,\n",
       "         0.000e+00],\n",
       "        [0.000e+00, 3.000e+00, 3.500e+01, 2.900e+01, 1.700e+01, 1.400e+01,\n",
       "         9.000e+00, 1.000e+01, 3.000e+01, 5.300e+01, 1.070e+02, 2.840e+02,\n",
       "         8.820e+02, 4.570e+02, 1.530e+02, 4.000e+01, 1.000e+01, 4.000e+00,\n",
       "         8.000e+00, 5.000e+00, 3.000e+00, 0.000e+00, 0.000e+00, 1.000e+00,\n",
       "         0.000e+00],\n",
       "        [0.000e+00, 8.000e+00, 2.600e+01, 9.000e+00, 1.400e+01, 6.000e+00,\n",
       "         8.000e+00, 1.400e+01, 1.200e+01, 1.700e+01, 2.800e+01, 6.100e+01,\n",
       "         2.190e+02, 9.600e+02, 1.063e+03, 1.800e+02, 2.100e+01, 1.200e+01,\n",
       "         4.000e+00, 6.000e+00, 3.000e+00, 2.000e+00, 1.000e+00, 0.000e+00,\n",
       "         0.000e+00],\n",
       "        [0.000e+00, 0.000e+00, 2.300e+01, 6.000e+00, 6.000e+00, 4.000e+00,\n",
       "         4.000e+00, 1.000e+00, 4.000e+00, 4.000e+00, 1.100e+01, 1.500e+01,\n",
       "         2.500e+01, 1.210e+02, 8.710e+02, 1.842e+03, 1.170e+02, 2.000e+01,\n",
       "         7.000e+00, 5.000e+00, 1.000e+00, 1.000e+00, 0.000e+00, 0.000e+00,\n",
       "         0.000e+00],\n",
       "        [0.000e+00, 2.000e+00, 1.500e+01, 1.100e+01, 4.000e+00, 2.000e+00,\n",
       "         1.000e+00, 1.000e+00, 0.000e+00, 2.000e+00, 0.000e+00, 2.000e+00,\n",
       "         7.000e+00, 1.200e+01, 3.800e+01, 5.710e+02, 2.024e+03, 2.340e+02,\n",
       "         3.500e+01, 1.100e+01, 5.000e+00, 8.000e+00, 1.000e+00, 0.000e+00,\n",
       "         0.000e+00],\n",
       "        [0.000e+00, 0.000e+00, 1.300e+01, 8.000e+00, 3.000e+00, 3.000e+00,\n",
       "         1.000e+00, 1.000e+00, 0.000e+00, 1.000e+00, 1.000e+00, 3.000e+00,\n",
       "         1.000e+00, 0.000e+00, 8.000e+00, 3.000e+01, 4.230e+02, 1.635e+03,\n",
       "         6.010e+02, 4.100e+01, 1.400e+01, 4.000e+00, 1.000e+00, 0.000e+00,\n",
       "         0.000e+00],\n",
       "        [0.000e+00, 0.000e+00, 2.000e+00, 2.000e+00, 0.000e+00, 1.000e+00,\n",
       "         0.000e+00, 1.000e+00, 2.000e+00, 0.000e+00, 2.000e+00, 0.000e+00,\n",
       "         0.000e+00, 1.000e+00, 2.000e+00, 1.900e+01, 6.200e+01, 1.780e+02,\n",
       "         1.039e+03, 1.108e+03, 4.500e+01, 3.000e+00, 3.000e+00, 0.000e+00,\n",
       "         0.000e+00],\n",
       "        [0.000e+00, 1.000e+00, 2.000e+00, 3.000e+00, 2.000e+00, 3.000e+00,\n",
       "         3.000e+00, 2.000e+00, 1.000e+00, 1.000e+00, 1.000e+00, 1.000e+00,\n",
       "         2.000e+00, 4.000e+00, 2.000e+00, 7.000e+00, 2.200e+01, 5.600e+01,\n",
       "         7.000e+01, 5.010e+02, 1.248e+03, 3.570e+02, 8.000e+00, 0.000e+00,\n",
       "         0.000e+00],\n",
       "        [0.000e+00, 0.000e+00, 2.000e+00, 3.000e+00, 0.000e+00, 3.000e+00,\n",
       "         1.000e+00, 0.000e+00, 1.000e+00, 0.000e+00, 1.000e+00, 0.000e+00,\n",
       "         1.000e+00, 0.000e+00, 5.000e+00, 1.000e+01, 1.300e+01, 3.200e+01,\n",
       "         2.800e+01, 3.100e+01, 1.150e+02, 7.980e+02, 5.310e+02, 2.000e+00,\n",
       "         0.000e+00],\n",
       "        [0.000e+00, 0.000e+00, 2.000e+00, 1.000e+00, 1.000e+00, 0.000e+00,\n",
       "         0.000e+00, 1.000e+00, 0.000e+00, 0.000e+00, 0.000e+00, 0.000e+00,\n",
       "         1.000e+00, 0.000e+00, 1.000e+00, 0.000e+00, 8.000e+00, 3.500e+01,\n",
       "         5.000e+00, 5.000e+00, 1.700e+01, 3.800e+01, 3.590e+02, 3.870e+02,\n",
       "         3.000e+00],\n",
       "        [0.000e+00, 0.000e+00, 0.000e+00, 0.000e+00, 0.000e+00, 1.000e+00,\n",
       "         1.000e+00, 1.000e+00, 0.000e+00, 0.000e+00, 0.000e+00, 0.000e+00,\n",
       "         0.000e+00, 0.000e+00, 0.000e+00, 0.000e+00, 4.000e+00, 1.200e+01,\n",
       "         0.000e+00, 3.000e+00, 4.000e+00, 1.100e+01, 3.300e+01, 2.290e+02,\n",
       "         1.630e+02],\n",
       "        [0.000e+00, 0.000e+00, 0.000e+00, 0.000e+00, 0.000e+00, 0.000e+00,\n",
       "         0.000e+00, 0.000e+00, 0.000e+00, 0.000e+00, 0.000e+00, 0.000e+00,\n",
       "         0.000e+00, 0.000e+00, 0.000e+00, 0.000e+00, 0.000e+00, 1.000e+00,\n",
       "         1.000e+00, 0.000e+00, 1.000e+00, 2.000e+00, 5.000e+00, 2.800e+01,\n",
       "         3.320e+02]]),\n",
       " array([-9.70305737, -9.07522068, -8.44738398, -7.81954729, -7.1917106 ,\n",
       "        -6.56387391, -5.93603722, -5.30820052, -4.68036383, -4.05252714,\n",
       "        -3.42469045, -2.79685376, -2.16901707, -1.54118037, -0.91334368,\n",
       "        -0.28550699,  0.3423297 ,  0.97016639,  1.59800308,  2.22583978,\n",
       "         2.85367647,  3.48151316,  4.10934985,  4.73718654,  5.36502324,\n",
       "         5.99285993]),\n",
       " array([-6.17163217, -5.71444455, -5.25725693, -4.80006931, -4.3428817 ,\n",
       "        -3.88569408, -3.42850646, -2.97131884, -2.51413122, -2.0569436 ,\n",
       "        -1.59975598, -1.14256836, -0.68538074, -0.22819312,  0.22899449,\n",
       "         0.68618211,  1.14336973,  1.60055735,  2.05774497,  2.51493259,\n",
       "         2.97212021,  3.42930783,  3.88649545,  4.34368307,  4.80087068,\n",
       "         5.2580583 ]),\n",
       " <matplotlib.collections.QuadMesh at 0x25116595c30>)"
      ]
     },
     "execution_count": 25,
     "metadata": {},
     "output_type": "execute_result"
    },
    {
     "data": {
      "image/png": "[encoded data removed]",
      "text/plain": [
       "<Figure size 640x480 with 1 Axes>"
      ]
     },
     "metadata": {},
     "output_type": "display_data"
    }
   ],
   "source": [
    "plt.hist2d(np.log10(filtered_segment_metrics['real_d']), np.log10(filtered_segment_metrics['predicted_d']), bins=25)"
   ]
  },
  {
   "cell_type": "code",
   "execution_count": null,
   "id": "5c496b16-6ca3-4980-bd27-3e94f5b96ac3",
   "metadata": {},
   "outputs": [],
   "source": []
  }
 ],
 "metadata": {
  "kernelspec": {
   "display_name": "anomalous_diffusion",
   "language": "python",
   "name": "python3"
  },
  "language_info": {
   "codemirror_mode": {
    "name": "ipython",
    "version": 3
   },
   "file_extension": ".py",
   "mimetype": "text/x-python",
   "name": "python",
   "nbconvert_exporter": "python",
   "pygments_lexer": "ipython3",
   "version": "3.10.14"
  }
 },
 "nbformat": 4,
 "nbformat_minor": 5
}
